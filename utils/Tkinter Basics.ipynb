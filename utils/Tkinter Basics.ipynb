{
 "cells": [
  {
   "cell_type": "markdown",
   "id": "d7ef799c",
   "metadata": {},
   "source": [
    "This exercise is based on an online tutorial to learn about tkinter.\n",
    "Source: Tkinter Basics by Alan D Moore Codes"
   ]
  },
  {
   "cell_type": "markdown",
   "id": "a7215cf2",
   "metadata": {},
   "source": [
    "<< Tkinter Basics 1: Setup, Widgets, and Geometry managers >>"
   ]
  },
  {
   "cell_type": "code",
   "execution_count": 50,
   "id": "93f574e8",
   "metadata": {
    "scrolled": false
   },
   "outputs": [],
   "source": [
    "import tkinter as tk\n",
    "\n",
    "\n",
    "root = tk.Tk()\n",
    "\n",
    "root.title('My Diary')\n",
    "root.geometry('800x800+500+200')\n",
    "\n",
    "root.columnconfigure(1, weight=1)\n",
    "root.rowconfigure(2, weight=1)\n",
    "\n",
    "subject_label = tk.Label(root, text='Subject: ')\n",
    "subject_label.grid(sticky='we', padx=5, pady=5)\n",
    "subject_inp = tk.Entry(root)\n",
    "subject_inp.grid(row=0, column=1, sticky=tk.E + tk.W)\n",
    "\n",
    "categories = ['Work', 'Hobbies', 'Health', 'Bills']\n",
    "cat_label = tk.Label(root, text='Category: ')\n",
    "cat_label.grid(row=1, column=0, sticky=tk.E + tk.W, padx=5, pady=5)\n",
    "cat_inp = tk.Listbox(root, height=1)\n",
    "cat_inp.grid(row=1, column=1, sticky=tk.E + tk.W, padx=5, pady=5)\n",
    "\n",
    "for category in categories:\n",
    "    cat_inp.insert(tk.END, category)\n",
    "\n",
    "message_inp = tk.Text(root)\n",
    "message_inp.grid(row=2, column=0, columnspan=2, sticky='nesw')\n",
    "\n",
    "save_button = tk.Button(root, text='Save')\n",
    "save_button.grid(row=99, column=1, sticky=tk.E, ipadx=5, ipady=5)\n",
    "\n",
    "\n",
    "\n",
    "root.mainloop()\n",
    "\n",
    "\n",
    "\n"
   ]
  },
  {
   "cell_type": "code",
   "execution_count": null,
   "id": "138514ea",
   "metadata": {},
   "outputs": [],
   "source": []
  },
  {
   "cell_type": "markdown",
   "id": "943fe811",
   "metadata": {},
   "source": [
    "<< Tkinter Basics 2: Events and Callback Functinos >>"
   ]
  },
  {
   "cell_type": "code",
   "execution_count": 56,
   "id": "8d2994d6",
   "metadata": {},
   "outputs": [],
   "source": [
    "import tkinter as tk\n",
    "\n",
    "# first line\n",
    "root = tk.Tk()\n",
    "\n",
    "root.title('My Diary')\n",
    "root.geometry('800x800+500+200')\n",
    "\n",
    "root.columnconfigure(1, weight=1)\n",
    "root.rowconfigure(2, weight=1)\n",
    "\n",
    "# subject\n",
    "subject_label = tk.Label(root, text='Subject: ')\n",
    "subject_label.grid(sticky='we', padx=5, pady=5)\n",
    "subject_inp = tk.Entry(root)\n",
    "subject_inp.grid(row=0, column=1, sticky=tk.E + tk.W)\n",
    "\n",
    "# category\n",
    "categories = ['Work', 'Hobbies', 'Health', 'Bills']\n",
    "cat_label = tk.Label(root, text='Category: ')\n",
    "cat_label.grid(row=1, column=0, sticky=tk.E + tk.W, padx=5, pady=5)\n",
    "cat_inp = tk.Listbox(root, height=1)\n",
    "cat_inp.grid(row=1, column=1, sticky=tk.E + tk.W, padx=5, pady=5)\n",
    "\n",
    "for category in categories:\n",
    "    cat_inp.insert(tk.END, category)\n",
    "\n",
    "# message\n",
    "message_inp = tk.Text(root)\n",
    "message_inp.grid(row=2, column=0, columnspan=2, sticky='nesw')\n",
    "\n",
    "# save button\n",
    "save_button = tk.Button(root, text='Save')\n",
    "save_button.grid(row=99, column=1, sticky=tk.E, ipadx=5, ipady=5)\n",
    "\n",
    "# status bar\n",
    "status_bar = tk.Label(root,text='')\n",
    "status_bar.grid(row=100, column=0, columnspan=2, ipadx=5, ipady=5)\n",
    "\n",
    "\n",
    "\n",
    "def save():\n",
    "    \"\"\" save the data to a file \"\"\"\n",
    "    \n",
    "    subject = subject_inp.get()\n",
    "    selected = cat_inp.curselection()\n",
    "    if not selected:\n",
    "        category = \"Misc\"\n",
    "    else:\n",
    "        category = categories[selected[0]]\n",
    "    \n",
    "    message = message_inp.get('1.0', tk.END)\n",
    "    \n",
    "    filename = f'{category} - {subject}.txt'\n",
    "    with open(filename, 'w') as fh:\n",
    "        fh.write(message)\n",
    "    \n",
    "    status_bar.configure(text='File saved')\n",
    "\n",
    "save_button.configure(command=save)    \n",
    "\n",
    "    \n",
    "# last line\n",
    "root.mainloop()\n",
    "\n",
    "\n",
    "\n"
   ]
  },
  {
   "cell_type": "code",
   "execution_count": null,
   "id": "4928177a",
   "metadata": {},
   "outputs": [],
   "source": []
  },
  {
   "cell_type": "code",
   "execution_count": null,
   "id": "d5c1b405",
   "metadata": {},
   "outputs": [],
   "source": []
  },
  {
   "cell_type": "code",
   "execution_count": null,
   "id": "8f84678f",
   "metadata": {},
   "outputs": [],
   "source": []
  },
  {
   "cell_type": "code",
   "execution_count": null,
   "id": "c5c65059",
   "metadata": {},
   "outputs": [],
   "source": []
  },
  {
   "cell_type": "code",
   "execution_count": null,
   "id": "d6eb4d79",
   "metadata": {},
   "outputs": [],
   "source": []
  },
  {
   "cell_type": "code",
   "execution_count": null,
   "id": "90399229",
   "metadata": {},
   "outputs": [],
   "source": []
  }
 ],
 "metadata": {
  "celltoolbar": "Raw Cell Format",
  "kernelspec": {
   "display_name": "Python 3 (ipykernel)",
   "language": "python",
   "name": "python3"
  },
  "language_info": {
   "codemirror_mode": {
    "name": "ipython",
    "version": 3
   },
   "file_extension": ".py",
   "mimetype": "text/x-python",
   "name": "python",
   "nbconvert_exporter": "python",
   "pygments_lexer": "ipython3",
   "version": "3.8.10"
  }
 },
 "nbformat": 4,
 "nbformat_minor": 5
}
